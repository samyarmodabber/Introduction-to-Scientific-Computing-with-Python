{
 "cells": [
  {
   "cell_type": "markdown",
   "metadata": {},
   "source": [
    "# Class"
   ]
  },
  {
   "cell_type": "markdown",
   "metadata": {},
   "source": [
    "## Introduction"
   ]
  },
  {
   "cell_type": "code",
   "execution_count": 5,
   "metadata": {},
   "outputs": [],
   "source": [
    "class Dog:\n",
    "    pass"
   ]
  },
  {
   "cell_type": "code",
   "execution_count": 8,
   "metadata": {},
   "outputs": [
    {
     "name": "stdout",
     "output_type": "stream",
     "text": [
      "False\n",
      "<class '__main__.Dog'>\n"
     ]
    }
   ],
   "source": [
    "a=Dog()\n",
    "b=Dog()\n",
    "print(a==b)\n",
    "\n",
    "print(type(a))"
   ]
  },
  {
   "cell_type": "code",
   "execution_count": 11,
   "metadata": {},
   "outputs": [],
   "source": [
    "class Dog:\n",
    "    # Class Attribute\n",
    "    species = 'mammal'\n",
    "    # Initializer / Instance Attributes\n",
    "    def __init__(self, name, age):\n",
    "        self.name = name\n",
    "        self.age = age"
   ]
  },
  {
   "cell_type": "code",
   "execution_count": 12,
   "metadata": {},
   "outputs": [
    {
     "name": "stdout",
     "output_type": "stream",
     "text": [
      "Philo is 5 and Mikey is 6.\n",
      "Philo is a mammal!\n"
     ]
    }
   ],
   "source": [
    "# Instantiate the Dog object\n",
    "philo = Dog(\"Philo\", 5)\n",
    "mikey = Dog(\"Mikey\", 6)\n",
    "\n",
    "# Access the instance attributes\n",
    "print(\"{} is {} and {} is {}.\".format(\n",
    "    philo.name, philo.age, mikey.name, mikey.age))\n",
    "# Is Philo a mammal?\n",
    "if philo.species == \"mammal\":\n",
    "    print(\"{} is a {}!\".format(philo.name, philo.species))"
   ]
  },
  {
   "cell_type": "markdown",
   "metadata": {},
   "source": [
    "## Methods"
   ]
  },
  {
   "cell_type": "code",
   "execution_count": 30,
   "metadata": {},
   "outputs": [],
   "source": [
    "class Dog:\n",
    "    # Class Attribute\n",
    "    species = 'mammal'\n",
    "    child=0\n",
    "    # Initializer / Instance Attributes\n",
    "    def __init__(self, name, age):\n",
    "        self.name = name\n",
    "        self.age = age\n",
    "    # instance methods\n",
    "    def description(self):\n",
    "        return \"{} is {} years old\".format(self.name, self.age)\n",
    "    def speak(self, sound):\n",
    "        return \"{} says {}\".format(self.name, sound)\n",
    "    def add_child(self,n):\n",
    "        self.child+=n"
   ]
  },
  {
   "cell_type": "code",
   "execution_count": 31,
   "metadata": {},
   "outputs": [
    {
     "name": "stdout",
     "output_type": "stream",
     "text": [
      "Siba is 6 years old\n",
      "Siba says Wuff Wuff\n",
      "2\n",
      "True\n"
     ]
    }
   ],
   "source": [
    "# Instantiate the Dog object\n",
    "Siba = Dog(\"Siba\", 6)\n",
    "\n",
    "# call our instance methods\n",
    "print(Siba.description())\n",
    "print(Siba.speak(\"Wuff Wuff\"))\n",
    "\n",
    "Siba.add_child(2)\n",
    "print(Siba.child)\n",
    "print(isinstance(Siba, Dog))"
   ]
  },
  {
   "cell_type": "markdown",
   "metadata": {},
   "source": [
    "## Inherits"
   ]
  },
  {
   "cell_type": "code",
   "execution_count": 27,
   "metadata": {},
   "outputs": [],
   "source": [
    "# Child class (inherits from Dog() class)\n",
    "class RussellTerrier(Dog):\n",
    "    def run(self, speed):\n",
    "        return \"{} runs {}\".format(self.name, speed)\n",
    "\n",
    "\n",
    "# Child class (inherits from Dog() class)\n",
    "class Bulldog(Dog):\n",
    "    def run(self, speed):\n",
    "        return \"{} runs {}\".format(self.name, speed)"
   ]
  },
  {
   "cell_type": "code",
   "execution_count": 29,
   "metadata": {},
   "outputs": [
    {
     "name": "stdout",
     "output_type": "stream",
     "text": [
      "Jim is 12 years old\n",
      "Jim runs slowly\n",
      "True\n"
     ]
    }
   ],
   "source": [
    "# Child classes inherit attributes and behaviors from the parent class\n",
    "jim = Bulldog(\"Jim\", 12)\n",
    "\n",
    "print(jim.description())\n",
    "print(jim.run(\"slowly\"))\n",
    "\n",
    "# Is jim an instance of Dog()?\n",
    "print(isinstance(jim, Dog))"
   ]
  },
  {
   "cell_type": "code",
   "execution_count": null,
   "metadata": {},
   "outputs": [],
   "source": [
    "# Is julie an instance of Dog()?\n",
    "julie = Dog(\"Julie\", 100)\n",
    "print(isinstance(julie, Dog))\n",
    "\n",
    "# Is johnny walker an instance of Bulldog()\n",
    "johnnywalker = RussellTerrier(\"Johnny Walker\", 4)\n",
    "print(isinstance(johnnywalker, Bulldog))\n",
    "\n",
    "# Is julie and instance of jim?\n",
    "print(isinstance(julie, Bulldog))\n",
    "\n",
    "# Is julie and instance of jim?\n",
    "print(isinstance(julie, jim))"
   ]
  },
  {
   "cell_type": "markdown",
   "metadata": {},
   "source": [
    "## Example"
   ]
  },
  {
   "cell_type": "code",
   "execution_count": 38,
   "metadata": {},
   "outputs": [],
   "source": [
    "# Parent class\n",
    "class Polygon:\n",
    "    # Initializer / Instance attributes\n",
    "    def __init__(self, no_of_sides):\n",
    "        self.name=''\n",
    "        self.n = no_of_sides\n",
    "        self.sides = [0 for i in range(no_of_sides)]\n",
    "    # instance method\n",
    "    def inputSides(self):\n",
    "        self.sides = [float(input(\"Enter side:\"+str(i+1)+\" : \")) for i in range(self.n)]\n",
    "    # instance method\n",
    "    def dispSides(self):\n",
    "        for i in range(self.n):\n",
    "            print(\"Side\",i+1,\"is\",self.sides[i])"
   ]
  },
  {
   "cell_type": "code",
   "execution_count": null,
   "metadata": {},
   "outputs": [],
   "source": [
    "p = Polygon(3)\n",
    "\n",
    "p.inputSides()\n",
    "p.dispSides()"
   ]
  },
  {
   "cell_type": "code",
   "execution_count": 39,
   "metadata": {},
   "outputs": [],
   "source": [
    "class Triangle(Polygon):\n",
    "    def __init__(self):\n",
    "        Polygon.__init__(self,3)\n",
    "    def findArea(self):\n",
    "        a, b, c = self.sides\n",
    "        # calculate the semi-perimeter\n",
    "        s = (a + b + c) / 2\n",
    "        area = (s*(s-a)*(s-b)*(s-c)) ** 0.5\n",
    "        print('The area of the triangle is %0.2f' %area)"
   ]
  },
  {
   "cell_type": "code",
   "execution_count": 40,
   "metadata": {},
   "outputs": [
    {
     "name": "stdin",
     "output_type": "stream",
     "text": [
      "Enter side:1 :  3\n",
      "Enter side:2 :  4\n",
      "Enter side:3 :  5\n"
     ]
    },
    {
     "name": "stdout",
     "output_type": "stream",
     "text": [
      "The area of the triangle is 6.00\n"
     ]
    }
   ],
   "source": [
    "t=Triangle()\n",
    "t.inputSides()\n",
    "t.findArea()"
   ]
  }
 ],
 "metadata": {
  "kernelspec": {
   "display_name": "Python 3",
   "language": "python",
   "name": "python3"
  },
  "language_info": {
   "codemirror_mode": {
    "name": "ipython",
    "version": 3
   },
   "file_extension": ".py",
   "mimetype": "text/x-python",
   "name": "python",
   "nbconvert_exporter": "python",
   "pygments_lexer": "ipython3",
   "version": "3.7.6"
  }
 },
 "nbformat": 4,
 "nbformat_minor": 4
}
