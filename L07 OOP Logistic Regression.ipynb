{
 "cells": [
  {
   "cell_type": "code",
   "execution_count": 120,
   "metadata": {},
   "outputs": [],
   "source": [
    "import numpy as np\n",
    "\n",
    "class Logistic_Regression:\n",
    "    def __init__(self):\n",
    "        self.N = 0\n",
    "        self.W = np.array('NAN')\n",
    "        \n",
    "    def predict(self,features,weights):\n",
    "        '''\n",
    "        Returns 1D array of probabilities\n",
    "        that the class label == 1\n",
    "        '''\n",
    "        z = np.dot(features, weights)\n",
    "        sigmoid_z=1.0 / (1 + np.exp(-z))\n",
    "        return sigmoid_z\n",
    "    \n",
    "    def cost_function(self, features, labels, weights):\n",
    "        '''\n",
    "        Using Mean Absolute Error\n",
    "\n",
    "        Features:(N,3)\n",
    "        Labels: (N,1)\n",
    "        Weights:(3,1)\n",
    "        Returns 1D matrix of predictions\n",
    "        Cost = (labels*log(predictions) + (1-labels)*log(1-predictions) ) / len(labels)\n",
    "        '''\n",
    "\n",
    "        predictions = self.predict(features, weights)\n",
    "\n",
    "        #Take the error when label=1\n",
    "        class1_cost = -labels*np.log(predictions)\n",
    "        #Take the error when label=0\n",
    "        class2_cost = (1-labels)*np.log(1-predictions)\n",
    "\n",
    "        #Take the sum of both costs\n",
    "        cost = class1_cost - class2_cost\n",
    "\n",
    "        #Take the average cost\n",
    "        cost = cost.sum() / self.N\n",
    "\n",
    "        return cost\n",
    "    \n",
    "    \n",
    "    def update_weights(self,features, labels, weights, lr):\n",
    "        '''\n",
    "        Vectorized Gradient Descent\n",
    "\n",
    "        Features:(N, d)\n",
    "        Labels: (N, 1)\n",
    "        Weights:(d, 1)\n",
    "        '''\n",
    "        #1 - Get Predictions\n",
    "        predictions = self.predict(features, weights)\n",
    "\n",
    "        #2 Transpose features from (200, 3) to (3, 200)\n",
    "        # So we can multiply w the (200,1)  cost matrix.\n",
    "        # Returns a (3,1) matrix holding 3 partial derivatives --\n",
    "        # one for each feature -- representing the aggregate\n",
    "        # slope of the cost function across all observations\n",
    "        gradient = np.dot(features.T,  predictions - labels)\n",
    "\n",
    "        #3 Take the average cost derivative for each feature\n",
    "        gradient /= self.N\n",
    "\n",
    "        #4 - Multiply the gradient by our learning rate\n",
    "        gradient =gradient* lr\n",
    "\n",
    "        #5 - Subtract from our weights to minimize cost\n",
    "        weights = weights-gradient\n",
    "\n",
    "        return weights\n",
    "    \n",
    "    def classify(self, predictions,bound=0.5):\n",
    "        '''\n",
    "        input  - N element array of predictions between 0 and 1\n",
    "        output - N element array of 0s (False) and 1s (True)\n",
    "        '''\n",
    "        N=len(predictions)\n",
    "        classification=np.zeros(N)\n",
    "        for i in range(N):\n",
    "            if predictions[i]>=bound:\n",
    "                classification[i]= 1 \n",
    "            else: \n",
    "                classification[i]=0\n",
    "        return classification\n",
    "    \n",
    "    def fitt_binary(self,features, labels, weights, lr, iters,report_costs=False):\n",
    "        cost_history = []\n",
    "        self.N=len(labels)\n",
    "        for i in range(iters):\n",
    "            weights = self.update_weights(features, labels, weights, lr)\n",
    "            self.W=weights\n",
    "            #Calculate error for auditing purposes\n",
    "            cost = self.cost_function(features, labels, weights)\n",
    "            cost_history.append(cost)\n",
    "\n",
    "            # Log Progress\n",
    "            #if i % 1000 == 0:\n",
    "        print (f\"The final cost after {i+1} iters: {cost}\")\n",
    "        if report_costs:\n",
    "            print(cost_history)\n",
    "\n",
    "        return weights\n",
    "    def test_binary(self,test):\n",
    "        predicts=self.predict(test,self.W)\n",
    "        classify_test=self.classify(predicts)\n",
    "        return classify_test"
   ]
  },
  {
   "cell_type": "code",
   "execution_count": 121,
   "metadata": {},
   "outputs": [],
   "source": [
    "features=np.array([[4,9],[8,3],[5,8],[9,6]])\n",
    "labels=np.array([1,0,1,0])\n",
    "weights=np.array([0,0])\n",
    "lr=.4\n",
    "iters=100"
   ]
  },
  {
   "cell_type": "code",
   "execution_count": 122,
   "metadata": {},
   "outputs": [
    {
     "name": "stdout",
     "output_type": "stream",
     "text": [
      "The final cost after 100 iters: 0.004846362829988243\n"
     ]
    },
    {
     "data": {
      "text/plain": [
       "array([-1.56247132,  1.55296348])"
      ]
     },
     "execution_count": 122,
     "metadata": {},
     "output_type": "execute_result"
    }
   ],
   "source": [
    "MY=Logistic_Regression()\n",
    "MY.fitt_binary(features, labels, weights, lr, iters)\n"
   ]
  },
  {
   "cell_type": "code",
   "execution_count": 125,
   "metadata": {},
   "outputs": [
    {
     "data": {
      "text/plain": [
       "array([0., 1., 1.])"
      ]
     },
     "execution_count": 125,
     "metadata": {},
     "output_type": "execute_result"
    }
   ],
   "source": [
    "data_test=np.array([[5,0],[1,9],[2,3]])\n",
    "MY.test_binary(data_test)"
   ]
  },
  {
   "cell_type": "markdown",
   "metadata": {},
   "source": [
    "# Example \n",
    "Test with Dataset [Download from here](http://faculty.marshall.usc.edu/gareth-james/ISL/data.html)"
   ]
  },
  {
   "cell_type": "code",
   "execution_count": null,
   "metadata": {},
   "outputs": [],
   "source": []
  }
 ],
 "metadata": {
  "kernelspec": {
   "display_name": "Python 3",
   "language": "python",
   "name": "python3"
  },
  "language_info": {
   "codemirror_mode": {
    "name": "ipython",
    "version": 3
   },
   "file_extension": ".py",
   "mimetype": "text/x-python",
   "name": "python",
   "nbconvert_exporter": "python",
   "pygments_lexer": "ipython3",
   "version": "3.7.6"
  }
 },
 "nbformat": 4,
 "nbformat_minor": 4
}
