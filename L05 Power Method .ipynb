{
 "cells": [
  {
   "cell_type": "markdown",
   "metadata": {},
   "source": [
    "# 1. Power Method\n",
    "Find the largest eigenvalue [See Here](https://www.youtube.com/watch?v=yBiQh1vsCLU)\n",
    "* Let A be a Matrix and x0=[1,0,....0]"
   ]
  },
  {
   "cell_type": "code",
   "execution_count": 2,
   "metadata": {},
   "outputs": [],
   "source": [
    "import numpy as np\n",
    "def power_method(A,k=10):\n",
    "    '''\n",
    "    Return the largest eigenvalue of matrix A with k iteratons\n",
    "    '''\n",
    "    m,n=A.shape\n",
    "    if m!=n: return 'The matrix should be squer'\n",
    "    x=np.zeros(n)\n",
    "    x[0]=1.0\n",
    "    for i in range(k):\n",
    "        p=np.dot(A,x)\n",
    "        m=np.max(np.abs(p))\n",
    "        x=p/m \n",
    "        # p/la.norm(p)\n",
    "    return m"
   ]
  },
  {
   "cell_type": "markdown",
   "metadata": {},
   "source": [
    "### Example"
   ]
  },
  {
   "cell_type": "code",
   "execution_count": 31,
   "metadata": {},
   "outputs": [
    {
     "data": {
      "text/plain": [
       "15.999999895691872"
      ]
     },
     "execution_count": 31,
     "metadata": {},
     "output_type": "execute_result"
    }
   ],
   "source": [
    "A=np.array([[7,9],[9,7]])\n",
    "# From linear algebra we can find that A has two eigenvalue 16 and -2. So the max is 16 and our function estimate it.\n",
    "power_method(A)"
   ]
  },
  {
   "cell_type": "markdown",
   "metadata": {},
   "source": [
    "# 2.QR Factorization"
   ]
  },
  {
   "cell_type": "code",
   "execution_count": 3,
   "metadata": {},
   "outputs": [
    {
     "name": "stdout",
     "output_type": "stream",
     "text": [
      "[[0. 1. 0. 0.]\n",
      " [0. 0. 0. 1.]\n",
      " [1. 0. 0. 0.]\n",
      " [0. 0. 1. 0.]]\n",
      "[[ 1.          0.          0.          0.        ]\n",
      " [ 0.28571429  1.          0.          0.        ]\n",
      " [ 0.71428571  0.12        1.          0.        ]\n",
      " [ 0.71428571 -0.44       -0.46153846  1.        ]]\n",
      "[[ 7.          5.          6.          6.        ]\n",
      " [ 0.          3.57142857  6.28571429  5.28571429]\n",
      " [ 0.          0.         -1.04        3.08      ]\n",
      " [ 0.          0.          0.          7.46153846]]\n"
     ]
    }
   ],
   "source": [
    "from scipy.linalg import lu\n",
    "A = np.array([[2, 5, 8, 7], [5, 2, 2, 8], [7, 5, 6, 6], [5, 4, 4, 8]])\n",
    "P, L, U = lu(A)\n",
    "print(P)\n",
    "print(L)\n",
    "print(U)"
   ]
  },
  {
   "cell_type": "markdown",
   "metadata": {},
   "source": [
    "# 3. Invers Problem for Eigenvalue\n",
    "But does **power_method** work for a big dimention matrix?<br>\n",
    "So lets to check it. Please give me a matrix of dim 50 that its largest eigenvalue is 23.<br>\n",
    "Is it difficult?<br>\n",
    "So we want do it by QR factorization.<br>\n",
    "\n",
    "* **Goal:** Make a matrix such that its eigenvalue are the element of an arbitrary array."
   ]
  },
  {
   "cell_type": "code",
   "execution_count": 4,
   "metadata": {},
   "outputs": [],
   "source": [
    "from scipy import linalg as la\n",
    "def eigenvalue_invers_problem(b):\n",
    "    '''\n",
    "    Return Diagonal matrix B related to batrix b\n",
    "    '''\n",
    "    n=len(b)\n",
    "    D=np.diag(b)\n",
    "    R=np.random.rand(n,n)\n",
    "    q,r = la.qr(R)\n",
    "    B=np.dot(np.transpose(q),np.dot(D,q))\n",
    "    return B"
   ]
  },
  {
   "cell_type": "markdown",
   "metadata": {},
   "source": [
    "### Example"
   ]
  },
  {
   "cell_type": "code",
   "execution_count": 82,
   "metadata": {},
   "outputs": [
    {
     "data": {
      "text/plain": [
       "12.035859204704591"
      ]
     },
     "execution_count": 82,
     "metadata": {},
     "output_type": "execute_result"
    }
   ],
   "source": [
    "K=eigenvalue_invers_problem(np.array([12,-2,7]))\n",
    "power_method(K)"
   ]
  },
  {
   "cell_type": "markdown",
   "metadata": {},
   "source": [
    "### Example"
   ]
  },
  {
   "cell_type": "code",
   "execution_count": 86,
   "metadata": {},
   "outputs": [
    {
     "name": "stdout",
     "output_type": "stream",
     "text": [
      "[1. 2. 3. 4. 5. 6. 7.]\n"
     ]
    },
    {
     "data": {
      "text/plain": [
       "6.675158013863618"
      ]
     },
     "execution_count": 86,
     "metadata": {},
     "output_type": "execute_result"
    }
   ],
   "source": [
    "n=7\n",
    "b=np.linspace(1,n,n)\n",
    "print(b)\n",
    "B=eigenvalue_invers_problem(b)\n",
    "power_method(B)"
   ]
  },
  {
   "cell_type": "markdown",
   "metadata": {},
   "source": [
    "# 4. Sparse matrix"
   ]
  },
  {
   "cell_type": "markdown",
   "metadata": {},
   "source": [
    "## 4.1 What is sparse matrix?"
   ]
  },
  {
   "cell_type": "markdown",
   "metadata": {},
   "source": [
    "We can make a diagonal matrix with an array"
   ]
  },
  {
   "cell_type": "code",
   "execution_count": 5,
   "metadata": {},
   "outputs": [
    {
     "data": {
      "text/plain": [
       "array([[ 5,  0,  0],\n",
       "       [ 0,  8,  0],\n",
       "       [ 0,  0, -6]])"
      ]
     },
     "execution_count": 5,
     "metadata": {},
     "output_type": "execute_result"
    }
   ],
   "source": [
    "np.diag(np.array([5,8,-6]))"
   ]
  },
  {
   "cell_type": "markdown",
   "metadata": {},
   "source": [
    "## 4.2 Sparse Package"
   ]
  },
  {
   "cell_type": "markdown",
   "metadata": {},
   "source": [
    "Diagonal matrix is a spesial kind of sparse matrix. Sparse matrix is a matrix, which is almost empty.(Have a lot of zeros).\n",
    "The is a package in scipy that you can work with them."
   ]
  },
  {
   "cell_type": "code",
   "execution_count": 7,
   "metadata": {},
   "outputs": [],
   "source": [
    "import scipy.sparse as spsp\n",
    "#Run help for more details:\n",
    "#?spsp"
   ]
  },
  {
   "cell_type": "markdown",
   "metadata": {},
   "source": [
    "### Example"
   ]
  },
  {
   "cell_type": "code",
   "execution_count": 18,
   "metadata": {},
   "outputs": [
    {
     "name": "stdout",
     "output_type": "stream",
     "text": [
      "  (0, 0)\t1\n",
      "  (1, 1)\t2\n",
      "  (2, 2)\t3\n",
      "  (3, 3)\t4\n",
      "  (4, 4)\t5\n",
      "  (0, 1)\t7\n",
      "  (1, 2)\t8\n",
      "  (2, 3)\t9\n",
      "  (3, 4)\t10\n"
     ]
    }
   ],
   "source": [
    "A = spsp.spdiags([[1, 2, 3, 4, 5], [6, 7, 8, 9, 10]], [0, 1], 5, 5)\n",
    "\n",
    "print(A)\n",
    "#print(type(A))\n",
    "#print(spsp.issparse(A))\n",
    "#print(A.todense())\n"
   ]
  },
  {
   "cell_type": "markdown",
   "metadata": {},
   "source": [
    "### Example"
   ]
  },
  {
   "cell_type": "code",
   "execution_count": 44,
   "metadata": {},
   "outputs": [
    {
     "name": "stdout",
     "output_type": "stream",
     "text": [
      "[[ 2.  3.  4.  0.  0.  0.]\n",
      " [-1.  2.  3.  4.  0.  0.]\n",
      " [ 0. -1.  2.  3.  4.  0.]\n",
      " [ 0.  0. -1.  2.  3.  4.]\n",
      " [ 0.  0.  0. -1.  2.  3.]\n",
      " [ 0.  0.  0.  0. -1.  2.]]\n"
     ]
    }
   ],
   "source": [
    "N=6\n",
    "diagonals = np.zeros((4, N))   # 3 diagonals\n",
    "diagonals[0,:] = -1\n",
    "diagonals[1,:] = 2\n",
    "diagonals[2,:] = 3\n",
    "diagonals[3,:] = 4\n",
    "\n",
    "diagonals\n",
    "B = spsp.spdiags(diagonals, [-1,0,1,2], N, N, format='csc')\n",
    "print(B.todense())"
   ]
  },
  {
   "cell_type": "markdown",
   "metadata": {},
   "source": [
    "## 4.3 Solve a Sparse Equation"
   ]
  },
  {
   "cell_type": "markdown",
   "metadata": {},
   "source": [
    "We want to solve an equation that matrix $A$ is sparse\n",
    "$$\n",
    "AX=b\n",
    "$$"
   ]
  },
  {
   "cell_type": "markdown",
   "metadata": {},
   "source": [
    "### A. Use dsolve"
   ]
  },
  {
   "cell_type": "code",
   "execution_count": 45,
   "metadata": {},
   "outputs": [
    {
     "name": "stdout",
     "output_type": "stream",
     "text": [
      "[-3.00239521  0.74730539  1.44071856 -1.20479042  3.37005988 -0.31497006]\n"
     ]
    }
   ],
   "source": [
    "from scipy.sparse.linalg import dsolve\n",
    "\n",
    "#Let solve BX=b where B is from above Example\n",
    "b=np.array([2,4,12,5,7,-4])\n",
    "\n",
    "x=dsolve.spsolve(B, b, use_umfpack=True)\n",
    "print(x)"
   ]
  },
  {
   "cell_type": "code",
   "execution_count": 54,
   "metadata": {},
   "outputs": [
    {
     "name": "stdout",
     "output_type": "stream",
     "text": [
      "[ 2.  4. 12.  5.  7. -4.]\n",
      "Error: 2.9605947323337506e-16\n"
     ]
    }
   ],
   "source": [
    "# Test Solution and Error\n",
    "print(B*x)\n",
    "print(f\"Error: {np.mean(B * x - b)}\")  "
   ]
  },
  {
   "cell_type": "markdown",
   "metadata": {},
   "source": [
    "### B. Use SuperLU"
   ]
  },
  {
   "cell_type": "markdown",
   "metadata": {},
   "source": [
    "Another method for solve a sparse matrix is its SuperLU "
   ]
  },
  {
   "cell_type": "code",
   "execution_count": 47,
   "metadata": {},
   "outputs": [],
   "source": [
    "factor=dsolve.splu(B)"
   ]
  },
  {
   "cell_type": "code",
   "execution_count": 48,
   "metadata": {},
   "outputs": [
    {
     "name": "stdout",
     "output_type": "stream",
     "text": [
      "<SuperLU object at 0x00000238DABE4930>\n"
     ]
    }
   ],
   "source": [
    "print(factor)"
   ]
  },
  {
   "cell_type": "code",
   "execution_count": 56,
   "metadata": {},
   "outputs": [
    {
     "name": "stdout",
     "output_type": "stream",
     "text": [
      "[-3.00239521  0.74730539  1.44071856 -1.20479042  3.37005988 -0.31497006]\n"
     ]
    }
   ],
   "source": [
    "xf=factor.solve(b) ## we use solve insted of dsolve\n",
    "print(xf)"
   ]
  },
  {
   "cell_type": "code",
   "execution_count": 55,
   "metadata": {},
   "outputs": [
    {
     "name": "stdout",
     "output_type": "stream",
     "text": [
      "[ 2.  4. 12.  5.  7. -4.]\n",
      "Error: 2.9605947323337506e-16\n"
     ]
    }
   ],
   "source": [
    "# Test Solution and Error for SuperLU solution\n",
    "print(B*xf)\n",
    "print(f\"Error: {np.mean(B * xf - b)}\")"
   ]
  },
  {
   "cell_type": "code",
   "execution_count": null,
   "metadata": {},
   "outputs": [],
   "source": []
  }
 ],
 "metadata": {
  "kernelspec": {
   "display_name": "Python 3",
   "language": "python",
   "name": "python3"
  },
  "language_info": {
   "codemirror_mode": {
    "name": "ipython",
    "version": 3
   },
   "file_extension": ".py",
   "mimetype": "text/x-python",
   "name": "python",
   "nbconvert_exporter": "python",
   "pygments_lexer": "ipython3",
   "version": "3.7.6"
  }
 },
 "nbformat": 4,
 "nbformat_minor": 4
}
