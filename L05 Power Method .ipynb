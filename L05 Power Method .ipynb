{
 "cells": [
  {
   "cell_type": "markdown",
   "metadata": {},
   "source": [
    "# Power Method\n",
    "Find the largest eigenvalue [See Here](https://www.youtube.com/watch?v=yBiQh1vsCLU)\n",
    "* Let A be a Matrix and x0=[1,0,....0]"
   ]
  },
  {
   "cell_type": "code",
   "execution_count": 85,
   "metadata": {},
   "outputs": [],
   "source": [
    "import numpy as np\n",
    "def power_method(A,k=10):\n",
    "    m,n=A.shape\n",
    "    if m!=n: return 'The matrix should be squer'\n",
    "    x=np.zeros(n)\n",
    "    x[0]=1.0\n",
    "    for i in range(k):\n",
    "        p=np.dot(A,x)\n",
    "        m=np.max(np.abs(p))\n",
    "        x=p/m \n",
    "        # p/la.norm(p)\n",
    "    return m"
   ]
  },
  {
   "cell_type": "markdown",
   "metadata": {},
   "source": [
    "### Example 1 (Easy)"
   ]
  },
  {
   "cell_type": "code",
   "execution_count": 84,
   "metadata": {},
   "outputs": [
    {
     "data": {
      "text/plain": [
       "15.999999895691872"
      ]
     },
     "execution_count": 84,
     "metadata": {},
     "output_type": "execute_result"
    }
   ],
   "source": [
    "A=np.array([[7,9],[9,7]])\n",
    "# From linear algebra we can find that A has two eigenvalue 16 and -2. \n",
    "power_method(A)"
   ]
  },
  {
   "cell_type": "markdown",
   "metadata": {},
   "source": [
    "### Invers Problem for Eigenvalue\n",
    "But does **power_method** work for a big dimention matrix?<br>\n",
    "So lets to check it. Please give me a matrix of dim 50 that its largest eigenvalue is 23.<br>\n",
    "Is it difficult?<br>\n",
    "So we want do it by QR factorization.<br>\n",
    "\n",
    "* **Goal:** Make a matrix such that its eigenvalue are the element of an arbitrary array."
   ]
  },
  {
   "cell_type": "code",
   "execution_count": 71,
   "metadata": {},
   "outputs": [],
   "source": [
    "from scipy import linalg as la\n",
    "def eigenvalue_invers_problem(b):\n",
    "    n=len(b)\n",
    "    D=np.diag(b)\n",
    "    R=np.random.rand(n,n)\n",
    "    q,r = la.qr(R)\n",
    "    B=np.dot(np.transpose(q),np.dot(D,q))\n",
    "    return B"
   ]
  },
  {
   "cell_type": "markdown",
   "metadata": {},
   "source": [
    "### Example 2"
   ]
  },
  {
   "cell_type": "code",
   "execution_count": 82,
   "metadata": {},
   "outputs": [
    {
     "data": {
      "text/plain": [
       "12.035859204704591"
      ]
     },
     "execution_count": 82,
     "metadata": {},
     "output_type": "execute_result"
    }
   ],
   "source": [
    "K=eigenvalue_invers_problem(np.array([12,-2,7]))\n",
    "power_method(K)"
   ]
  },
  {
   "cell_type": "markdown",
   "metadata": {},
   "source": [
    "### Example 3"
   ]
  },
  {
   "cell_type": "code",
   "execution_count": 86,
   "metadata": {},
   "outputs": [
    {
     "name": "stdout",
     "output_type": "stream",
     "text": [
      "[1. 2. 3. 4. 5. 6. 7.]\n"
     ]
    },
    {
     "data": {
      "text/plain": [
       "6.675158013863618"
      ]
     },
     "execution_count": 86,
     "metadata": {},
     "output_type": "execute_result"
    }
   ],
   "source": [
    "n=7\n",
    "b=np.linspace(1,n,n)\n",
    "print(b)\n",
    "B=eigenvalue_invers_problem(b)\n",
    "power_method(B)"
   ]
  },
  {
   "cell_type": "code",
   "execution_count": null,
   "metadata": {},
   "outputs": [],
   "source": []
  }
 ],
 "metadata": {
  "kernelspec": {
   "display_name": "Python 3",
   "language": "python",
   "name": "python3"
  },
  "language_info": {
   "codemirror_mode": {
    "name": "ipython",
    "version": 3
   },
   "file_extension": ".py",
   "mimetype": "text/x-python",
   "name": "python",
   "nbconvert_exporter": "python",
   "pygments_lexer": "ipython3",
   "version": "3.7.6"
  }
 },
 "nbformat": 4,
 "nbformat_minor": 4
}
